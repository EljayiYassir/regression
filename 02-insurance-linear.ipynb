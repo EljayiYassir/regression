{
 "cells": [
  {
   "cell_type": "markdown",
   "metadata": {
    "_cell_guid": "b1076dfc-b9ad-4769-8c92-a6c4dae69d19",
    "_uuid": "8f2839f25d086af736a60e9eeb907d3b93b6e0e5"
   },
   "source": [
    "# Insurance cost prediction using linear regression\n",
    "\n",
    "Make a submisson here: https://jovian.ai/learn/deep-learning-with-pytorch-zero-to-gans/assignment/assignment-2-train-your-first-model\n",
    "\n",
    "In this assignment we're going to use information like a person's age, sex, BMI, no. of children and smoking habit to predict the price of yearly medical bills. This kind of model is useful for insurance companies to determine the yearly insurance premium for a person. The dataset for this problem is taken from [Kaggle](https://www.kaggle.com/mirichoi0218/insurance).\n",
    "\n",
    "\n",
    "We will create a model with the following steps:\n",
    "1. Download and explore the dataset\n",
    "2. Prepare the dataset for training\n",
    "3. Create a linear regression model\n",
    "4. Train the model to fit the data\n",
    "5. Make predictions using the trained model\n",
    "\n",
    "\n",
    "This assignment builds upon the concepts from the first 2 lessons. It will help to review these Jupyter notebooks:\n",
    "- PyTorch basics: https://jovian.ai/aakashns/01-pytorch-basics\n",
    "- Linear Regression: https://jovian.ai/aakashns/02-linear-regression\n",
    "- Logistic Regression: https://jovian.ai/aakashns/03-logistic-regression\n",
    "- Linear regression (minimal): https://jovian.ai/aakashns/housing-linear-minimal\n",
    "- Logistic regression (minimal): https://jovian.ai/aakashns/mnist-logistic-minimal\n",
    "\n",
    "As you go through this notebook, you will find a **???** in certain places. Your job is to replace the **???** with appropriate code or values, to ensure that the notebook runs properly end-to-end . In some cases, you'll be required to choose some hyperparameters (learning rate, batch size etc.). Try to experiment with the hypeparameters to get the lowest loss.\n"
   ]
  },
  {
   "cell_type": "code",
   "execution_count": 1,
   "metadata": {},
   "outputs": [],
   "source": [
    "# Uncomment and run the appropriate command for your operating system, if required\n",
    "\n",
    "# Linux / Binder\n",
    "# !pip install numpy matplotlib pandas torch==1.7.0+cpu torchvision==0.8.1+cpu torchaudio==0.7.0 -f https://download.pytorch.org/whl/torch_stable.html\n",
    "\n",
    "# Windows\n",
    "# !pip install numpy matplotlib pandas torch==1.7.0+cpu torchvision==0.8.1+cpu torchaudio==0.7.0 -f https://download.pytorch.org/whl/torch_stable.html\n",
    "\n",
    "# MacOS\n",
    "# !pip install numpy matplotlib pandas torch torchvision torchaudio"
   ]
  },
  {
   "cell_type": "code",
   "execution_count": 2,
   "metadata": {},
   "outputs": [
    {
     "data": {
      "application/javascript": [
       "if (window.IPython && IPython.notebook.kernel) IPython.notebook.kernel.execute('jovian.utils.jupyter.get_notebook_name_saved = lambda: \"' + IPython.notebook.notebook_name + '\"')"
      ],
      "text/plain": [
       "<IPython.core.display.Javascript object>"
      ]
     },
     "metadata": {},
     "output_type": "display_data"
    }
   ],
   "source": [
    "import torch\n",
    "import jovian\n",
    "import torchvision\n",
    "import torch.nn as nn\n",
    "import pandas as pd\n",
    "import matplotlib.pyplot as plt\n",
    "import torch.nn.functional as F\n",
    "from torchvision.datasets.utils import download_url\n",
    "from torch.utils.data import DataLoader, TensorDataset, random_split"
   ]
  },
  {
   "cell_type": "code",
   "execution_count": 3,
   "metadata": {},
   "outputs": [],
   "source": [
    "project_name='02-insurance-linear-regression' # will be used by jovian.commit"
   ]
  },
  {
   "cell_type": "markdown",
   "metadata": {},
   "source": [
    "## Step 1: Download and explore the data\n",
    "\n",
    "Let us begin by downloading the data. We'll use the `download_url` function from PyTorch to get the data as a CSV (comma-separated values) file. "
   ]
  },
  {
   "cell_type": "code",
   "execution_count": 4,
   "metadata": {
    "_cell_guid": "79c7e3d0-c299-4dcb-8224-4455121ee9b0",
    "_uuid": "d629ff2d2480ee46fbb7e2d37f6b5fab8052498a"
   },
   "outputs": [
    {
     "name": "stdout",
     "output_type": "stream",
     "text": [
      "Downloading https://gist.githubusercontent.com/BirajCoder/5f068dfe759c1ea6bdfce9535acdb72d/raw/c84d84e3c80f93be67f6c069cbdc0195ec36acbd/insurance.csv to ./insurance.csv\n"
     ]
    },
    {
     "data": {
      "application/vnd.jupyter.widget-view+json": {
       "model_id": "85885ab054c74299bb8945d75895f8ff",
       "version_major": 2,
       "version_minor": 0
      },
      "text/plain": [
       "  0%|          | 0/54288 [00:00<?, ?it/s]"
      ]
     },
     "metadata": {},
     "output_type": "display_data"
    }
   ],
   "source": [
    "DATASET_URL = \"https://gist.github.com/BirajCoder/5f068dfe759c1ea6bdfce9535acdb72d/raw/c84d84e3c80f93be67f6c069cbdc0195ec36acbd/insurance.csv\"\n",
    "DATA_FILENAME = \"insurance.csv\"\n",
    "download_url(DATASET_URL, '.')"
   ]
  },
  {
   "cell_type": "markdown",
   "metadata": {},
   "source": [
    "To load the dataset into memory, we'll use the `read_csv` function from the `pandas` library. The data will be loaded as a Pandas dataframe. See this short tutorial to learn more: https://data36.com/pandas-tutorial-1-basics-reading-data-files-dataframes-data-selection/"
   ]
  },
  {
   "cell_type": "code",
   "execution_count": 5,
   "metadata": {},
   "outputs": [
    {
     "data": {
      "text/html": [
       "<div>\n",
       "<style scoped>\n",
       "    .dataframe tbody tr th:only-of-type {\n",
       "        vertical-align: middle;\n",
       "    }\n",
       "\n",
       "    .dataframe tbody tr th {\n",
       "        vertical-align: top;\n",
       "    }\n",
       "\n",
       "    .dataframe thead th {\n",
       "        text-align: right;\n",
       "    }\n",
       "</style>\n",
       "<table border=\"1\" class=\"dataframe\">\n",
       "  <thead>\n",
       "    <tr style=\"text-align: right;\">\n",
       "      <th></th>\n",
       "      <th>age</th>\n",
       "      <th>sex</th>\n",
       "      <th>bmi</th>\n",
       "      <th>children</th>\n",
       "      <th>smoker</th>\n",
       "      <th>region</th>\n",
       "      <th>charges</th>\n",
       "    </tr>\n",
       "  </thead>\n",
       "  <tbody>\n",
       "    <tr>\n",
       "      <th>0</th>\n",
       "      <td>19</td>\n",
       "      <td>female</td>\n",
       "      <td>27.900</td>\n",
       "      <td>0</td>\n",
       "      <td>yes</td>\n",
       "      <td>southwest</td>\n",
       "      <td>16884.92400</td>\n",
       "    </tr>\n",
       "    <tr>\n",
       "      <th>1</th>\n",
       "      <td>18</td>\n",
       "      <td>male</td>\n",
       "      <td>33.770</td>\n",
       "      <td>1</td>\n",
       "      <td>no</td>\n",
       "      <td>southeast</td>\n",
       "      <td>1725.55230</td>\n",
       "    </tr>\n",
       "    <tr>\n",
       "      <th>2</th>\n",
       "      <td>28</td>\n",
       "      <td>male</td>\n",
       "      <td>33.000</td>\n",
       "      <td>3</td>\n",
       "      <td>no</td>\n",
       "      <td>southeast</td>\n",
       "      <td>4449.46200</td>\n",
       "    </tr>\n",
       "    <tr>\n",
       "      <th>3</th>\n",
       "      <td>33</td>\n",
       "      <td>male</td>\n",
       "      <td>22.705</td>\n",
       "      <td>0</td>\n",
       "      <td>no</td>\n",
       "      <td>northwest</td>\n",
       "      <td>21984.47061</td>\n",
       "    </tr>\n",
       "    <tr>\n",
       "      <th>4</th>\n",
       "      <td>32</td>\n",
       "      <td>male</td>\n",
       "      <td>28.880</td>\n",
       "      <td>0</td>\n",
       "      <td>no</td>\n",
       "      <td>northwest</td>\n",
       "      <td>3866.85520</td>\n",
       "    </tr>\n",
       "  </tbody>\n",
       "</table>\n",
       "</div>"
      ],
      "text/plain": [
       "   age     sex     bmi  children smoker     region      charges\n",
       "0   19  female  27.900         0    yes  southwest  16884.92400\n",
       "1   18    male  33.770         1     no  southeast   1725.55230\n",
       "2   28    male  33.000         3     no  southeast   4449.46200\n",
       "3   33    male  22.705         0     no  northwest  21984.47061\n",
       "4   32    male  28.880         0     no  northwest   3866.85520"
      ]
     },
     "execution_count": 5,
     "metadata": {},
     "output_type": "execute_result"
    }
   ],
   "source": [
    "dataframe_raw = pd.read_csv(DATA_FILENAME)\n",
    "dataframe_raw.head()"
   ]
  },
  {
   "cell_type": "markdown",
   "metadata": {},
   "source": [
    "We're going to do a slight customization of the data, so that you every participant receives a slightly different version of the dataset. Fill in your name below as a string (enter at least 5 characters)"
   ]
  },
  {
   "cell_type": "code",
   "execution_count": 6,
   "metadata": {},
   "outputs": [
    {
     "data": {
      "text/plain": [
       "age         1338\n",
       "sex         1338\n",
       "bmi         1338\n",
       "children    1338\n",
       "smoker      1338\n",
       "region      1338\n",
       "charges     1338\n",
       "dtype: int64"
      ]
     },
     "execution_count": 6,
     "metadata": {},
     "output_type": "execute_result"
    }
   ],
   "source": [
    "dataframe_raw.count()"
   ]
  },
  {
   "cell_type": "code",
   "execution_count": 7,
   "metadata": {},
   "outputs": [],
   "source": [
    "your_name = 'Yassir' # at least 5 characters"
   ]
  },
  {
   "cell_type": "markdown",
   "metadata": {},
   "source": [
    "The `customize_dataset` function will customize the dataset slightly using your name as a source of random numbers."
   ]
  },
  {
   "cell_type": "code",
   "execution_count": 8,
   "metadata": {},
   "outputs": [],
   "source": [
    "def customize_dataset(dataframe_raw, rand_str):\n",
    "    dataframe = dataframe_raw.copy(deep=True)\n",
    "    # drop some rows\n",
    "    dataframe = dataframe.sample(int(0.95*len(dataframe)), random_state=int(ord(rand_str[0])))\n",
    "    # scale input\n",
    "    dataframe.bmi = dataframe.bmi * ord(rand_str[1])/100.\n",
    "    # scale target\n",
    "    dataframe.charges = dataframe.charges * ord(rand_str[2])/100.\n",
    "    # drop column\n",
    "    if ord(rand_str[3]) % 2 == 1:\n",
    "        dataframe = dataframe.drop(['region'], axis=1)\n",
    "    return dataframe"
   ]
  },
  {
   "cell_type": "code",
   "execution_count": 9,
   "metadata": {},
   "outputs": [
    {
     "data": {
      "text/html": [
       "<div>\n",
       "<style scoped>\n",
       "    .dataframe tbody tr th:only-of-type {\n",
       "        vertical-align: middle;\n",
       "    }\n",
       "\n",
       "    .dataframe tbody tr th {\n",
       "        vertical-align: top;\n",
       "    }\n",
       "\n",
       "    .dataframe thead th {\n",
       "        text-align: right;\n",
       "    }\n",
       "</style>\n",
       "<table border=\"1\" class=\"dataframe\">\n",
       "  <thead>\n",
       "    <tr style=\"text-align: right;\">\n",
       "      <th></th>\n",
       "      <th>age</th>\n",
       "      <th>sex</th>\n",
       "      <th>bmi</th>\n",
       "      <th>children</th>\n",
       "      <th>smoker</th>\n",
       "      <th>charges</th>\n",
       "    </tr>\n",
       "  </thead>\n",
       "  <tbody>\n",
       "    <tr>\n",
       "      <th>290</th>\n",
       "      <td>28</td>\n",
       "      <td>female</td>\n",
       "      <td>32.39800</td>\n",
       "      <td>0</td>\n",
       "      <td>no</td>\n",
       "      <td>3647.820700</td>\n",
       "    </tr>\n",
       "    <tr>\n",
       "      <th>651</th>\n",
       "      <td>53</td>\n",
       "      <td>female</td>\n",
       "      <td>38.41200</td>\n",
       "      <td>1</td>\n",
       "      <td>no</td>\n",
       "      <td>12166.667650</td>\n",
       "    </tr>\n",
       "    <tr>\n",
       "      <th>118</th>\n",
       "      <td>49</td>\n",
       "      <td>female</td>\n",
       "      <td>26.35490</td>\n",
       "      <td>0</td>\n",
       "      <td>no</td>\n",
       "      <td>9891.528695</td>\n",
       "    </tr>\n",
       "    <tr>\n",
       "      <th>255</th>\n",
       "      <td>55</td>\n",
       "      <td>female</td>\n",
       "      <td>24.60405</td>\n",
       "      <td>3</td>\n",
       "      <td>no</td>\n",
       "      <td>15004.432203</td>\n",
       "    </tr>\n",
       "    <tr>\n",
       "      <th>1166</th>\n",
       "      <td>57</td>\n",
       "      <td>male</td>\n",
       "      <td>39.15890</td>\n",
       "      <td>0</td>\n",
       "      <td>no</td>\n",
       "      <td>12629.876495</td>\n",
       "    </tr>\n",
       "  </tbody>\n",
       "</table>\n",
       "</div>"
      ],
      "text/plain": [
       "      age     sex       bmi  children smoker       charges\n",
       "290    28  female  32.39800         0     no   3647.820700\n",
       "651    53  female  38.41200         1     no  12166.667650\n",
       "118    49  female  26.35490         0     no   9891.528695\n",
       "255    55  female  24.60405         3     no  15004.432203\n",
       "1166   57    male  39.15890         0     no  12629.876495"
      ]
     },
     "execution_count": 9,
     "metadata": {},
     "output_type": "execute_result"
    }
   ],
   "source": [
    "dataframe = customize_dataset(dataframe_raw, your_name)\n",
    "dataframe.head()"
   ]
  },
  {
   "cell_type": "code",
   "execution_count": 10,
   "metadata": {},
   "outputs": [
    {
     "data": {
      "text/plain": [
       "age         1271\n",
       "sex         1271\n",
       "bmi         1271\n",
       "children    1271\n",
       "smoker      1271\n",
       "charges     1271\n",
       "dtype: int64"
      ]
     },
     "execution_count": 10,
     "metadata": {},
     "output_type": "execute_result"
    }
   ],
   "source": [
    "dataframe.count()"
   ]
  },
  {
   "cell_type": "code",
   "execution_count": 11,
   "metadata": {},
   "outputs": [
    {
     "data": {
      "text/plain": [
       "1271"
      ]
     },
     "execution_count": 11,
     "metadata": {},
     "output_type": "execute_result"
    }
   ],
   "source": [
    "len(dataframe.index)"
   ]
  },
  {
   "cell_type": "markdown",
   "metadata": {},
   "source": [
    "Let us answer some basic questions about the dataset. \n",
    "\n",
    "\n",
    "**Q1: How many rows does the dataset have?**"
   ]
  },
  {
   "cell_type": "code",
   "execution_count": 12,
   "metadata": {},
   "outputs": [
    {
     "name": "stdout",
     "output_type": "stream",
     "text": [
      "1271\n"
     ]
    }
   ],
   "source": [
    "num_rows = dataframe.shape[0]\n",
    "print(num_rows)"
   ]
  },
  {
   "cell_type": "markdown",
   "metadata": {},
   "source": [
    "**Q2: How many columns doe the dataset have**"
   ]
  },
  {
   "cell_type": "code",
   "execution_count": 13,
   "metadata": {},
   "outputs": [
    {
     "name": "stdout",
     "output_type": "stream",
     "text": [
      "6\n"
     ]
    }
   ],
   "source": [
    "num_cols = dataframe.shape[1]\n",
    "print(num_cols)"
   ]
  },
  {
   "cell_type": "markdown",
   "metadata": {},
   "source": [
    "**Q3: What are the column titles of the input variables?**"
   ]
  },
  {
   "cell_type": "code",
   "execution_count": 14,
   "metadata": {},
   "outputs": [],
   "source": [
    "input_cols = [col for col in dataframe.columns]"
   ]
  },
  {
   "cell_type": "code",
   "execution_count": 15,
   "metadata": {},
   "outputs": [
    {
     "data": {
      "text/plain": [
       "['age', 'sex', 'bmi', 'children', 'smoker', 'charges']"
      ]
     },
     "execution_count": 15,
     "metadata": {},
     "output_type": "execute_result"
    }
   ],
   "source": [
    "input_cols"
   ]
  },
  {
   "cell_type": "markdown",
   "metadata": {},
   "source": [
    "**Q4: Which of the input columns are non-numeric or categorial variables ?**\n",
    "\n",
    "Hint: `sex` is one of them. List the columns that are not numbers."
   ]
  },
  {
   "cell_type": "code",
   "execution_count": 16,
   "metadata": {},
   "outputs": [],
   "source": [
    "#all numeric type are stored in numerics\n",
    "numerics = ['int16', 'int32', 'int64', 'float16', 'float32', 'float64']\n",
    "#select non numeric colone\n",
    "categorical_cols = [col for col in dataframe.columns if dataframe[col].dtype not in numerics]"
   ]
  },
  {
   "cell_type": "code",
   "execution_count": 17,
   "metadata": {},
   "outputs": [],
   "source": [
    "#Another way to get the non numerical variable\n",
    "#categorical_cols = [col for col in dataframe.select_dtypes(exclude=['number']).columns]"
   ]
  },
  {
   "cell_type": "code",
   "execution_count": 18,
   "metadata": {},
   "outputs": [
    {
     "data": {
      "text/plain": [
       "['sex', 'smoker']"
      ]
     },
     "execution_count": 18,
     "metadata": {},
     "output_type": "execute_result"
    }
   ],
   "source": [
    "categorical_cols"
   ]
  },
  {
   "cell_type": "code",
   "execution_count": 19,
   "metadata": {},
   "outputs": [
    {
     "data": {
      "text/plain": [
       "age           int64\n",
       "sex          object\n",
       "bmi         float64\n",
       "children      int64\n",
       "smoker       object\n",
       "charges     float64\n",
       "dtype: object"
      ]
     },
     "execution_count": 19,
     "metadata": {},
     "output_type": "execute_result"
    }
   ],
   "source": [
    "# check the type of each column elements\n",
    "dataframe.dtypes"
   ]
  },
  {
   "cell_type": "markdown",
   "metadata": {},
   "source": [
    "**Q5: What are the column titles of output/target variable(s)?**"
   ]
  },
  {
   "cell_type": "code",
   "execution_count": 20,
   "metadata": {},
   "outputs": [],
   "source": [
    "output_cols = ['charges']"
   ]
  },
  {
   "cell_type": "markdown",
   "metadata": {},
   "source": [
    "**Q: (Optional) What is the minimum, maximum and average value of the `charges` column? Can you show the distribution of values in a graph?**\n",
    "Use this data visualization cheatsheet for referece: https://jovian.ai/aakashns/dataviz-cheatsheet"
   ]
  },
  {
   "cell_type": "code",
   "execution_count": 21,
   "metadata": {},
   "outputs": [
    {
     "name": "stdout",
     "output_type": "stream",
     "text": [
      " Minimum: 1290.1549850000001  Maximum: 73335.99221150001  Avrege: 15386.991450052219\n"
     ]
    },
    {
     "data": {
      "text/plain": [
       "<AxesSubplot:ylabel='charges'>"
      ]
     },
     "execution_count": 21,
     "metadata": {},
     "output_type": "execute_result"
    },
    {
     "data": {
      "image/png": "[encoded data removed]",
      "text/plain": [
       "<Figure size 432x288 with 1 Axes>"
      ]
     },
     "metadata": {
      "needs_background": "light"
     },
     "output_type": "display_data"
    }
   ],
   "source": [
    "import seaborn as sns\n",
    "# Write your answer here\n",
    "min_=dataframe['charges'].min()\n",
    "max_=dataframe['charges'].max()\n",
    "avr_=dataframe['charges'].mean()\n",
    "print(' Minimum:',min_,' Maximum:',max_,' Avrege:',avr_)\n",
    "\n",
    "#visualisation of the charge\n",
    "sns.scatterplot(x= dataframe.index,y= dataframe['charges'])"
   ]
  },
  {
   "cell_type": "markdown",
   "metadata": {},
   "source": [
    "Remember to commit your notebook to Jovian after every step, so that you don't lose your work."
   ]
  },
  {
   "cell_type": "code",
   "execution_count": 22,
   "metadata": {},
   "outputs": [],
   "source": [
    "#!pip install jovian --upgrade -q"
   ]
  },
  {
   "cell_type": "code",
   "execution_count": 23,
   "metadata": {},
   "outputs": [],
   "source": [
    "#import jovian"
   ]
  },
  {
   "cell_type": "code",
   "execution_count": 24,
   "metadata": {},
   "outputs": [],
   "source": [
    "#jovian.commit()"
   ]
  },
  {
   "cell_type": "markdown",
   "metadata": {},
   "source": [
    "## Step 2: Prepare the dataset for training\n",
    "\n",
    "We need to convert the data from the Pandas dataframe into a PyTorch tensors for training. To do this, the first step is to convert it numpy arrays. If you've filled out `input_cols`, `categorial_cols` and `output_cols` correctly, this following function will perform the conversion to numpy arrays."
   ]
  },
  {
   "cell_type": "code",
   "execution_count": 25,
   "metadata": {},
   "outputs": [],
   "source": [
    "def dataframe_to_arrays(dataframe):\n",
    "    # Make a copy of the original dataframe\n",
    "    dataframe1 = dataframe.copy(deep=True)\n",
    "    # Convert non-numeric categorical columns to numbers\n",
    "    for col in categorical_cols:\n",
    "        dataframe1[col] = dataframe1[col].astype('category').cat.codes\n",
    "    # Extract input & outupts as numpy arrays\n",
    "    inputs_array = dataframe1[input_cols].to_numpy()\n",
    "    targets_array = dataframe1[output_cols].to_numpy()\n",
    "    return inputs_array, targets_array"
   ]
  },
  {
   "cell_type": "markdown",
   "metadata": {},
   "source": [
    "Read through the [Pandas documentation](https://pandas.pydata.org/pandas-docs/stable/user_guide/categorical.html) to understand how we're converting categorical variables into numbers."
   ]
  },
  {
   "cell_type": "code",
   "execution_count": 26,
   "metadata": {},
   "outputs": [
    {
     "data": {
      "text/plain": [
       "(array([[2.80000000e+01, 0.00000000e+00, 3.23980000e+01, 0.00000000e+00,\n",
       "         0.00000000e+00, 3.64782070e+03],\n",
       "        [5.30000000e+01, 0.00000000e+00, 3.84120000e+01, 1.00000000e+00,\n",
       "         0.00000000e+00, 1.21666676e+04],\n",
       "        [4.90000000e+01, 0.00000000e+00, 2.63549000e+01, 0.00000000e+00,\n",
       "         0.00000000e+00, 9.89152869e+03],\n",
       "        ...,\n",
       "        [5.30000000e+01, 1.00000000e+00, 4.02259000e+01, 0.00000000e+00,\n",
       "         0.00000000e+00, 1.09299568e+04],\n",
       "        [4.00000000e+01, 0.00000000e+00, 2.78293000e+01, 3.00000000e+00,\n",
       "         0.00000000e+00, 9.26863097e+03],\n",
       "        [6.00000000e+01, 1.00000000e+00, 2.35904000e+01, 0.00000000e+00,\n",
       "         0.00000000e+00, 1.44021455e+04]]),\n",
       " array([[ 3647.8207  ],\n",
       "        [12166.66765 ],\n",
       "        [ 9891.528695],\n",
       "        ...,\n",
       "        [10929.956845],\n",
       "        [ 9268.630965],\n",
       "        [14402.14552 ]]))"
      ]
     },
     "execution_count": 26,
     "metadata": {},
     "output_type": "execute_result"
    }
   ],
   "source": [
    "inputs_array, targets_array = dataframe_to_arrays(dataframe)\n",
    "inputs_array, targets_array"
   ]
  },
  {
   "cell_type": "markdown",
   "metadata": {},
   "source": [
    "**Q6: Convert the numpy arrays `inputs_array` and `targets_array` into PyTorch tensors. Make sure that the data type is `torch.float32`.**"
   ]
  },
  {
   "cell_type": "code",
   "execution_count": 27,
   "metadata": {},
   "outputs": [
    {
     "name": "stdout",
     "output_type": "stream",
     "text": [
      "[[2.80000000e+01 0.00000000e+00 3.23980000e+01 0.00000000e+00\n",
      "  0.00000000e+00 3.64782070e+03]\n",
      " [5.30000000e+01 0.00000000e+00 3.84120000e+01 1.00000000e+00\n",
      "  0.00000000e+00 1.21666676e+04]\n",
      " [4.90000000e+01 0.00000000e+00 2.63549000e+01 0.00000000e+00\n",
      "  0.00000000e+00 9.89152869e+03]\n",
      " ...\n",
      " [5.30000000e+01 1.00000000e+00 4.02259000e+01 0.00000000e+00\n",
      "  0.00000000e+00 1.09299568e+04]\n",
      " [4.00000000e+01 0.00000000e+00 2.78293000e+01 3.00000000e+00\n",
      "  0.00000000e+00 9.26863097e+03]\n",
      " [6.00000000e+01 1.00000000e+00 2.35904000e+01 0.00000000e+00\n",
      "  0.00000000e+00 1.44021455e+04]] \n",
      " float64\n"
     ]
    }
   ],
   "source": [
    "import numpy \n",
    "numpy.float32(inputs_array)\n",
    "print(inputs_array,'\\n',inputs_array.dtype)"
   ]
  },
  {
   "cell_type": "code",
   "execution_count": 28,
   "metadata": {},
   "outputs": [],
   "source": [
    "inputs = torch.from_numpy(inputs_array)\n",
    "inputs=inputs.float()\n",
    "targets = torch.from_numpy(targets_array).float()\n",
    "targets=targets.float()"
   ]
  },
  {
   "cell_type": "code",
   "execution_count": 29,
   "metadata": {},
   "outputs": [
    {
     "data": {
      "text/plain": [
       "(torch.float32, torch.float32)"
      ]
     },
     "execution_count": 29,
     "metadata": {},
     "output_type": "execute_result"
    }
   ],
   "source": [
    "inputs.dtype, targets.dtype"
   ]
  },
  {
   "cell_type": "markdown",
   "metadata": {},
   "source": [
    "Next, we need to create PyTorch datasets & data loaders for training & validation. We'll start by creating a `TensorDataset`."
   ]
  },
  {
   "cell_type": "code",
   "execution_count": 30,
   "metadata": {},
   "outputs": [],
   "source": [
    "dataset = TensorDataset(inputs, targets)"
   ]
  },
  {
   "cell_type": "markdown",
   "metadata": {},
   "source": [
    "**Q7: Pick a number between `0.1` and `0.2` to determine the fraction of data that will be used for creating the validation set. Then use `random_split` to create training & validation datasets.**"
   ]
  },
  {
   "cell_type": "code",
   "execution_count": 31,
   "metadata": {},
   "outputs": [],
   "source": [
    "val_percent = 0.15 # between 0.1 and 0.2\n",
    "val_size = int(num_rows * val_percent)\n",
    "train_size = num_rows - val_size\n",
    "\n",
    "\n",
    "train_ds, val_ds = random_split(dataset, [train_size, val_size]) # Use the random_split function to split dataset into 2 parts of the desired length"
   ]
  },
  {
   "cell_type": "markdown",
   "metadata": {},
   "source": [
    "Finally, we can create data loaders for training & validation.\n",
    "\n",
    "**Q8: Pick a batch size for the data loader.**"
   ]
  },
  {
   "cell_type": "code",
   "execution_count": 32,
   "metadata": {},
   "outputs": [],
   "source": [
    "batch_size = 100"
   ]
  },
  {
   "cell_type": "code",
   "execution_count": 33,
   "metadata": {},
   "outputs": [],
   "source": [
    "train_loader = DataLoader(train_ds, batch_size, shuffle=True)\n",
    "val_loader = DataLoader(val_ds, batch_size)"
   ]
  },
  {
   "cell_type": "markdown",
   "metadata": {},
   "source": [
    "Let's look at a batch of data to verify everything is working fine so far."
   ]
  },
  {
   "cell_type": "code",
   "execution_count": 34,
   "metadata": {},
   "outputs": [
    {
     "name": "stdout",
     "output_type": "stream",
     "text": [
      "inputs: tensor([[1.9000e+01, 1.0000e+00, 2.7548e+01, 1.0000e+00, 0.0000e+00, 2.1189e+03],\n",
      "        [6.2000e+01, 0.0000e+00, 2.5501e+01, 0.0000e+00, 1.0000e+00, 3.1980e+04],\n",
      "        [3.0000e+01, 0.0000e+00, 2.7553e+01, 1.0000e+00, 0.0000e+00, 5.2063e+03],\n",
      "        [4.8000e+01, 1.0000e+00, 3.8945e+01, 0.0000e+00, 0.0000e+00, 8.9748e+03],\n",
      "        [4.2000e+01, 1.0000e+00, 2.3901e+01, 0.0000e+00, 1.0000e+00, 2.2443e+04],\n",
      "        [4.9000e+01, 1.0000e+00, 2.9973e+01, 0.0000e+00, 1.0000e+00, 4.5687e+04],\n",
      "        [2.3000e+01, 0.0000e+00, 3.2398e+01, 0.0000e+00, 0.0000e+00, 1.2415e+04],\n",
      "        [2.6000e+01, 1.0000e+00, 2.6447e+01, 3.0000e+00, 0.0000e+00, 5.3605e+03],\n",
      "        [6.1000e+01, 1.0000e+00, 3.0623e+01, 0.0000e+00, 0.0000e+00, 1.4441e+04],\n",
      "        [6.3000e+01, 1.0000e+00, 3.5662e+01, 0.0000e+00, 0.0000e+00, 1.6079e+04],\n",
      "        [5.7000e+01, 0.0000e+00, 2.7839e+01, 0.0000e+00, 0.0000e+00, 1.3174e+04],\n",
      "        [4.3000e+01, 0.0000e+00, 2.4328e+01, 0.0000e+00, 0.0000e+00, 8.4238e+03],\n",
      "        [1.9000e+01, 1.0000e+00, 1.9206e+01, 0.0000e+00, 0.0000e+00, 1.4278e+03],\n",
      "        [2.5000e+01, 0.0000e+00, 2.9391e+01, 0.0000e+00, 0.0000e+00, 3.0279e+03],\n",
      "        [4.0000e+01, 1.0000e+00, 4.0439e+01, 0.0000e+00, 0.0000e+00, 6.2546e+03],\n",
      "        [2.8000e+01, 1.0000e+00, 2.9949e+01, 0.0000e+00, 0.0000e+00, 3.5219e+03],\n",
      "        [4.9000e+01, 1.0000e+00, 2.9391e+01, 0.0000e+00, 0.0000e+00, 9.3342e+03],\n",
      "        [3.0000e+01, 1.0000e+00, 2.3668e+01, 3.0000e+00, 1.0000e+00, 2.0998e+04],\n",
      "        [2.5000e+01, 1.0000e+00, 2.5894e+01, 4.0000e+00, 0.0000e+00, 5.6097e+03],\n",
      "        [5.7000e+01, 0.0000e+00, 3.0225e+01, 0.0000e+00, 1.0000e+00, 5.0116e+04],\n",
      "        [5.2000e+01, 0.0000e+00, 3.0778e+01, 2.0000e+00, 0.0000e+00, 1.2866e+04],\n",
      "        [5.9000e+01, 0.0000e+00, 2.5710e+01, 0.0000e+00, 0.0000e+00, 1.4738e+04],\n",
      "        [4.3000e+01, 0.0000e+00, 2.4512e+01, 1.0000e+00, 1.0000e+00, 2.5037e+04],\n",
      "        [3.8000e+01, 1.0000e+00, 3.5938e+01, 1.0000e+00, 0.0000e+00, 6.9916e+03],\n",
      "        [4.3000e+01, 1.0000e+00, 3.4251e+01, 2.0000e+00, 0.0000e+00, 2.1627e+04],\n",
      "        [1.9000e+01, 0.0000e+00, 3.4096e+01, 0.0000e+00, 0.0000e+00, 2.4551e+03],\n",
      "        [5.7000e+01, 0.0000e+00, 2.1563e+01, 0.0000e+00, 0.0000e+00, 1.3834e+04],\n",
      "        [4.0000e+01, 1.0000e+00, 3.4241e+01, 3.0000e+00, 0.0000e+00, 8.2764e+03],\n",
      "        [6.3000e+01, 0.0000e+00, 2.6171e+01, 0.0000e+00, 1.0000e+00, 3.3293e+04],\n",
      "        [1.9000e+01, 1.0000e+00, 2.6447e+01, 2.0000e+00, 0.0000e+00, 2.5868e+04],\n",
      "        [6.4000e+01, 0.0000e+00, 2.6078e+01, 0.0000e+00, 1.0000e+00, 3.3731e+04],\n",
      "        [3.8000e+01, 0.0000e+00, 3.6598e+01, 0.0000e+00, 0.0000e+00, 6.2073e+03],\n",
      "        [4.1000e+01, 1.0000e+00, 2.9672e+01, 2.0000e+00, 0.0000e+00, 8.3452e+03],\n",
      "        [4.0000e+01, 1.0000e+00, 2.4221e+01, 2.0000e+00, 0.0000e+00, 7.5825e+03],\n",
      "        [1.8000e+01, 0.0000e+00, 2.4328e+01, 0.0000e+00, 0.0000e+00, 2.5259e+03],\n",
      "        [5.8000e+01, 1.0000e+00, 3.5846e+01, 2.0000e+00, 1.0000e+00, 5.4621e+04],\n",
      "        [2.8000e+01, 1.0000e+00, 3.2805e+01, 0.0000e+00, 0.0000e+00, 2.2624e+04],\n",
      "        [4.7000e+01, 1.0000e+00, 3.4998e+01, 1.0000e+00, 1.0000e+00, 4.8543e+04],\n",
      "        [2.7000e+01, 0.0000e+00, 2.2514e+01, 1.0000e+00, 0.0000e+00, 4.0962e+03],\n",
      "        [5.3000e+01, 0.0000e+00, 3.6307e+01, 1.0000e+00, 0.0000e+00, 1.2604e+04],\n",
      "        [3.0000e+01, 1.0000e+00, 3.6307e+01, 3.0000e+00, 0.0000e+00, 6.2430e+03],\n",
      "        [5.1000e+01, 1.0000e+00, 3.0686e+01, 0.0000e+00, 0.0000e+00, 1.0550e+04],\n",
      "        [3.1000e+01, 0.0000e+00, 2.9580e+01, 3.0000e+00, 0.0000e+00, 7.0302e+03],\n",
      "        [2.6000e+01, 1.0000e+00, 2.6248e+01, 0.0000e+00, 1.0000e+00, 1.9600e+04],\n",
      "        [2.3000e+01, 1.0000e+00, 3.1719e+01, 3.0000e+00, 0.0000e+00, 4.1302e+03],\n",
      "        [3.8000e+01, 0.0000e+00, 2.6772e+01, 0.0000e+00, 0.0000e+00, 6.1911e+03],\n",
      "        [3.8000e+01, 1.0000e+00, 1.8721e+01, 0.0000e+00, 1.0000e+00, 1.8194e+04],\n",
      "        [2.8000e+01, 1.0000e+00, 3.4372e+01, 0.0000e+00, 0.0000e+00, 3.7592e+03],\n",
      "        [2.1000e+01, 1.0000e+00, 2.3038e+01, 2.0000e+00, 0.0000e+00, 3.5387e+03],\n",
      "        [1.9000e+01, 1.0000e+00, 2.6869e+01, 0.0000e+00, 1.0000e+00, 1.8743e+04],\n",
      "        [5.8000e+01, 0.0000e+00, 2.8130e+01, 0.0000e+00, 0.0000e+00, 1.3619e+04],\n",
      "        [5.1000e+01, 0.0000e+00, 1.7508e+01, 0.0000e+00, 0.0000e+00, 1.1091e+04],\n",
      "        [5.2000e+01, 1.0000e+00, 2.6539e+01, 0.0000e+00, 1.0000e+00, 2.8053e+04],\n",
      "        [2.6000e+01, 0.0000e+00, 2.9022e+01, 1.0000e+00, 0.0000e+00, 3.9019e+03],\n",
      "        [2.7000e+01, 0.0000e+00, 2.9672e+01, 1.0000e+00, 0.0000e+00, 1.9316e+04],\n",
      "        [3.4000e+01, 0.0000e+00, 2.5928e+01, 1.0000e+00, 0.0000e+00, 5.7532e+03],\n",
      "        [6.2000e+01, 1.0000e+00, 2.9949e+01, 3.0000e+00, 1.0000e+00, 5.3726e+04],\n",
      "        [3.7000e+01, 0.0000e+00, 3.3082e+01, 1.0000e+00, 0.0000e+00, 7.0292e+03],\n",
      "        [3.5000e+01, 1.0000e+00, 2.9585e+01, 1.0000e+00, 0.0000e+00, 5.4637e+03],\n",
      "        [6.0000e+01, 0.0000e+00, 2.3314e+01, 0.0000e+00, 0.0000e+00, 1.4964e+04],\n",
      "        [5.7000e+01, 1.0000e+00, 3.9717e+01, 0.0000e+00, 0.0000e+00, 1.3301e+04],\n",
      "        [2.5000e+01, 0.0000e+00, 2.2761e+01, 0.0000e+00, 0.0000e+00, 3.6875e+03],\n",
      "        [2.3000e+01, 0.0000e+00, 2.7276e+01, 0.0000e+00, 0.0000e+00, 3.0936e+03],\n",
      "        [3.2000e+01, 1.0000e+00, 4.5134e+01, 2.0000e+00, 0.0000e+00, 5.3893e+03],\n",
      "        [6.0000e+01, 0.0000e+00, 2.3794e+01, 0.0000e+00, 0.0000e+00, 1.4524e+04],\n",
      "        [4.6000e+01, 1.0000e+00, 4.2573e+01, 3.0000e+00, 0.0000e+00, 1.0286e+04],\n",
      "        [1.8000e+01, 0.0000e+00, 2.5928e+01, 0.0000e+00, 0.0000e+00, 1.8581e+03],\n",
      "        [2.9000e+01, 1.0000e+00, 3.4435e+01, 2.0000e+00, 1.0000e+00, 5.1273e+04],\n",
      "        [5.5000e+01, 1.0000e+00, 3.2864e+01, 3.0000e+00, 0.0000e+00, 1.3785e+04],\n",
      "        [6.3000e+01, 1.0000e+00, 3.2107e+01, 0.0000e+00, 0.0000e+00, 1.5403e+04],\n",
      "        [5.0000e+01, 0.0000e+00, 2.6539e+01, 0.0000e+00, 0.0000e+00, 2.9505e+04],\n",
      "        [2.6000e+01, 1.0000e+00, 4.5134e+01, 1.0000e+00, 0.0000e+00, 3.3661e+03],\n",
      "        [3.0000e+01, 0.0000e+00, 2.6869e+01, 0.0000e+00, 0.0000e+00, 4.0873e+03],\n",
      "        [4.6000e+01, 0.0000e+00, 3.2713e+01, 1.0000e+00, 0.0000e+00, 1.0148e+04],\n",
      "        [6.4000e+01, 0.0000e+00, 2.2300e+01, 0.0000e+00, 1.0000e+00, 3.1094e+04],\n",
      "        [6.2000e+01, 0.0000e+00, 3.6952e+01, 2.0000e+00, 0.0000e+00, 1.7515e+04],\n",
      "        [2.7000e+01, 1.0000e+00, 2.9391e+01, 3.0000e+00, 0.0000e+00, 4.8999e+03],\n",
      "        [5.0000e+01, 0.0000e+00, 2.6995e+01, 3.0000e+00, 0.0000e+00, 2.2712e+04],\n",
      "        [2.1000e+01, 1.0000e+00, 2.4973e+01, 2.0000e+00, 0.0000e+00, 3.7718e+03],\n",
      "        [4.2000e+01, 1.0000e+00, 2.3867e+01, 2.0000e+00, 1.0000e+00, 2.4448e+04],\n",
      "        [2.0000e+01, 0.0000e+00, 3.0836e+01, 2.0000e+00, 0.0000e+00, 3.5148e+03],\n",
      "        [4.8000e+01, 1.0000e+00, 2.7160e+01, 1.0000e+00, 1.0000e+00, 2.7104e+04],\n",
      "        [1.8000e+01, 0.0000e+00, 3.2160e+01, 0.0000e+00, 0.0000e+00, 2.5389e+03],\n",
      "        [5.0000e+01, 0.0000e+00, 2.7315e+01, 3.0000e+00, 0.0000e+00, 1.2308e+04],\n",
      "        [4.9000e+01, 1.0000e+00, 3.0410e+01, 1.0000e+00, 0.0000e+00, 1.0684e+04],\n",
      "        [1.9000e+01, 0.0000e+00, 2.7461e+01, 0.0000e+00, 1.0000e+00, 2.0089e+04],\n",
      "        [4.4000e+01, 0.0000e+00, 2.3261e+01, 2.0000e+00, 0.0000e+00, 9.4428e+03],\n",
      "        [5.0000e+01, 1.0000e+00, 2.6631e+01, 1.0000e+00, 0.0000e+00, 1.1060e+04],\n",
      "        [3.2000e+01, 1.0000e+00, 3.4144e+01, 2.0000e+00, 0.0000e+00, 5.3712e+03],\n",
      "        [2.3000e+01, 1.0000e+00, 4.8869e+01, 1.0000e+00, 0.0000e+00, 2.8038e+03],\n",
      "        [5.8000e+01, 0.0000e+00, 3.2437e+01, 0.0000e+00, 0.0000e+00, 1.4066e+04],\n",
      "        [4.5000e+01, 0.0000e+00, 3.2107e+01, 0.0000e+00, 0.0000e+00, 8.4468e+03],\n",
      "        [5.2000e+01, 1.0000e+00, 3.1792e+01, 3.0000e+00, 0.0000e+00, 1.2982e+04],\n",
      "        [4.9000e+01, 0.0000e+00, 3.2345e+01, 2.0000e+00, 0.0000e+00, 1.1927e+04],\n",
      "        [5.2000e+01, 0.0000e+00, 3.7229e+01, 2.0000e+00, 0.0000e+00, 1.3106e+04],\n",
      "        [5.3000e+01, 0.0000e+00, 3.5754e+01, 3.0000e+00, 1.0000e+00, 5.3661e+04],\n",
      "        [3.0000e+01, 0.0000e+00, 2.2945e+01, 3.0000e+00, 1.0000e+00, 2.1581e+04],\n",
      "        [2.5000e+01, 1.0000e+00, 2.5433e+01, 0.0000e+00, 0.0000e+00, 3.1295e+03],\n",
      "        [4.5000e+01, 0.0000e+00, 2.4420e+01, 2.0000e+00, 0.0000e+00, 1.0459e+04],\n",
      "        [3.6000e+01, 1.0000e+00, 3.4144e+01, 1.0000e+00, 1.0000e+00, 4.4516e+04]])\n",
      "targets: tensor([[ 2118.8967],\n",
      "        [31980.0332],\n",
      "        [ 5206.2603],\n",
      "        [ 8974.7842],\n",
      "        [22442.8730],\n",
      "        [45686.7578],\n",
      "        [12415.3281],\n",
      "        [ 5360.4795],\n",
      "        [14441.2461],\n",
      "        [16079.1279],\n",
      "        [13173.5723],\n",
      "        [ 8423.8057],\n",
      "        [ 1427.7998],\n",
      "        [ 3027.9409],\n",
      "        [ 6254.5615],\n",
      "        [ 3521.8845],\n",
      "        [ 9334.1816],\n",
      "        [20998.0977],\n",
      "        [ 5609.6782],\n",
      "        [50115.7812],\n",
      "        [12865.8057],\n",
      "        [14737.7617],\n",
      "        [25037.0430],\n",
      "        [ 6991.6221],\n",
      "        [21627.0664],\n",
      "        [ 2455.1367],\n",
      "        [13833.6797],\n",
      "        [ 8276.3975],\n",
      "        [33293.0391],\n",
      "        [25867.7090],\n",
      "        [33730.6289],\n",
      "        [ 6207.2593],\n",
      "        [ 8345.2314],\n",
      "        [ 7582.5347],\n",
      "        [ 2525.9441],\n",
      "        [54620.9688],\n",
      "        [22624.3359],\n",
      "        [48542.8086],\n",
      "        [ 4096.1724],\n",
      "        [12603.6484],\n",
      "        [ 6243.0366],\n",
      "        [10550.2559],\n",
      "        [ 7030.2158],\n",
      "        [19599.8418],\n",
      "        [ 4130.2021],\n",
      "        [ 6191.0664],\n",
      "        [18193.8047],\n",
      "        [ 3759.1736],\n",
      "        [ 3538.6599],\n",
      "        [18742.5234],\n",
      "        [13618.8086],\n",
      "        [11090.8906],\n",
      "        [28052.6660],\n",
      "        [ 3901.9233],\n",
      "        [19315.8730],\n",
      "        [ 5753.2002],\n",
      "        [53725.8867],\n",
      "        [ 7029.2061],\n",
      "        [ 5463.7305],\n",
      "        [14964.0400],\n",
      "        [13301.2461],\n",
      "        [ 3687.4651],\n",
      "        [ 3093.6309],\n",
      "        [ 5389.3472],\n",
      "        [14524.3809],\n",
      "        [10285.7324],\n",
      "        [ 1858.1317],\n",
      "        [51273.2734],\n",
      "        [13785.2432],\n",
      "        [15402.8193],\n",
      "        [29505.0625],\n",
      "        [ 3366.1245],\n",
      "        [ 4087.3335],\n",
      "        [10147.5840],\n",
      "        [31093.6016],\n",
      "        [17514.8730],\n",
      "        [ 4899.8555],\n",
      "        [22711.7910],\n",
      "        [ 3771.8489],\n",
      "        [24448.2852],\n",
      "        [ 3514.8464],\n",
      "        [27103.5137],\n",
      "        [ 2538.8521],\n",
      "        [12308.0391],\n",
      "        [10683.6602],\n",
      "        [20089.3320],\n",
      "        [ 9442.7656],\n",
      "        [11060.3115],\n",
      "        [ 5371.2358],\n",
      "        [ 2803.7634],\n",
      "        [14066.3555],\n",
      "        [ 8446.8467],\n",
      "        [12982.4756],\n",
      "        [11926.5498],\n",
      "        [13106.4355],\n",
      "        [53660.6602],\n",
      "        [21580.7559],\n",
      "        [ 3129.5188],\n",
      "        [10459.3281],\n",
      "        [44515.5508]])\n"
     ]
    }
   ],
   "source": [
    "for xb, yb in train_loader:\n",
    "    print(\"inputs:\", xb)\n",
    "    print(\"targets:\", yb)\n",
    "    break"
   ]
  },
  {
   "cell_type": "markdown",
   "metadata": {},
   "source": [
    "Let's save our work by committing to Jovian."
   ]
  },
  {
   "cell_type": "code",
   "execution_count": null,
   "metadata": {},
   "outputs": [
    {
     "data": {
      "application/javascript": [
       "window.require && require([\"base/js/namespace\"],function(Jupyter){Jupyter.notebook.save_checkpoint()})"
      ],
      "text/plain": [
       "<IPython.core.display.Javascript object>"
      ]
     },
     "metadata": {},
     "output_type": "display_data"
    }
   ],
   "source": [
    "jovian.commit(project=project_name, environment=None)"
   ]
  },
  {
   "cell_type": "markdown",
   "metadata": {},
   "source": [
    "## Step 3: Create a Linear Regression Model\n",
    "\n",
    "Our model itself is a fairly straightforward linear regression (we'll build more complex models in the next assignment). \n"
   ]
  },
  {
   "cell_type": "code",
   "execution_count": 205,
   "metadata": {},
   "outputs": [],
   "source": [
    "input_size = len(input_cols)\n",
    "output_size = len(output_cols)"
   ]
  },
  {
   "cell_type": "markdown",
   "metadata": {},
   "source": [
    "**Q9: Complete the class definition below by filling out the constructor (`__init__`), `forward`, `training_step` and `validation_step` methods.**\n",
    "\n",
    "Hint: Think carefully about picking a good loss fuction (it's not cross entropy). Maybe try 2-3 of them and see which one works best. See https://pytorch.org/docs/stable/nn.functional.html#loss-functions"
   ]
  },
  {
   "cell_type": "code",
   "execution_count": 226,
   "metadata": {},
   "outputs": [],
   "source": [
    "class InsuranceModel(nn.Module):\n",
    "    def __init__(self):\n",
    "        super().__init__()\n",
    "        self.linear = nn.Linear(input_size,output_size)                  # fill this (hint: use input_size & output_size defined above)\n",
    "        \n",
    "    def forward(self, xb):\n",
    "        out = self.linear(xb)                          # fill this\n",
    "        return out\n",
    "    \n",
    "    def training_step(self, batch):\n",
    "        inputs, targets = batch \n",
    "        # Generate predictions\n",
    "        out = self(inputs)          \n",
    "        # Calcuate loss\n",
    "        loss = F.l1_loss(out,targets)                         # fill this\n",
    "        return loss\n",
    "    \n",
    "    def validation_step(self, batch):\n",
    "        inputs, targets = batch\n",
    "        # Generate predictions\n",
    "        out = self(inputs)\n",
    "        # Calculate loss\n",
    "        loss = F.l1_loss(out,targets)                             # fill this    \n",
    "        return {'val_loss': loss.detach()}\n",
    "        \n",
    "    def validation_epoch_end(self, outputs):\n",
    "        batch_losses = [x['val_loss'] for x in outputs]\n",
    "        epoch_loss = torch.stack(batch_losses).mean()   # Combine losses\n",
    "        return {'val_loss': epoch_loss.item()}\n",
    "    \n",
    "    def epoch_end(self, epoch, result, num_epochs):\n",
    "        # Print result every 20th epoch\n",
    "        if (epoch+1) % 20 == 0 or epoch == num_epochs-1:\n",
    "            print(\"Epoch [{}], val_loss: {:.4f}\".format(epoch+1, result['val_loss']))"
   ]
  },
  {
   "cell_type": "markdown",
   "metadata": {},
   "source": [
    "Let us create a model using the `InsuranceModel` class. You may need to come back later and re-run the next cell to reinitialize the model, in case the loss becomes `nan` or `infinity`."
   ]
  },
  {
   "cell_type": "code",
   "execution_count": 253,
   "metadata": {},
   "outputs": [],
   "source": [
    "model = InsuranceModel()"
   ]
  },
  {
   "cell_type": "markdown",
   "metadata": {},
   "source": [
    "Let's check out the weights and biases of the model using `model.parameters`."
   ]
  },
  {
   "cell_type": "code",
   "execution_count": 254,
   "metadata": {},
   "outputs": [
    {
     "data": {
      "text/plain": [
       "[Parameter containing:\n",
       " tensor([[-0.0274, -0.0874,  0.2507, -0.3248, -0.1228, -0.3427]],\n",
       "        requires_grad=True),\n",
       " Parameter containing:\n",
       " tensor([-0.0835], requires_grad=True)]"
      ]
     },
     "execution_count": 254,
     "metadata": {},
     "output_type": "execute_result"
    }
   ],
   "source": [
    "list(model.parameters())"
   ]
  },
  {
   "cell_type": "markdown",
   "metadata": {},
   "source": [
    "One final commit before we train the model."
   ]
  },
  {
   "cell_type": "code",
   "execution_count": 255,
   "metadata": {},
   "outputs": [],
   "source": [
    "#jovian.commit(project=project_name, environment=None)"
   ]
  },
  {
   "cell_type": "markdown",
   "metadata": {},
   "source": [
    "## Step 4: Train the model to fit the data\n",
    "\n",
    "To train our model, we'll use the same `fit` function explained in the lecture. That's the benefit of defining a generic training loop - you can use it for any problem."
   ]
  },
  {
   "cell_type": "code",
   "execution_count": 256,
   "metadata": {},
   "outputs": [],
   "source": [
    "def evaluate(model, val_loader):\n",
    "    outputs = [model.validation_step(batch) for batch in val_loader]\n",
    "    return model.validation_epoch_end(outputs)\n",
    "\n",
    "def fit(epochs, lr, model, train_loader, val_loader, opt_func=torch.optim.SGD):\n",
    "    history = []\n",
    "    optimizer = opt_func(model.parameters(), lr)\n",
    "    for epoch in range(epochs):\n",
    "        # Training Phase \n",
    "        for batch in train_loader:\n",
    "            loss = model.training_step(batch)\n",
    "            loss.backward()\n",
    "            optimizer.step()\n",
    "            optimizer.zero_grad()\n",
    "        # Validation phase\n",
    "        result = evaluate(model, val_loader)\n",
    "        model.epoch_end(epoch, result, epochs)\n",
    "        history.append(result)\n",
    "    return history"
   ]
  },
  {
   "cell_type": "markdown",
   "metadata": {},
   "source": [
    "**Q10: Use the `evaluate` function to calculate the loss on the validation set before training.**"
   ]
  },
  {
   "cell_type": "code",
   "execution_count": 257,
   "metadata": {},
   "outputs": [
    {
     "name": "stdout",
     "output_type": "stream",
     "text": [
      "{'val_loss': 20649.841796875}\n"
     ]
    }
   ],
   "source": [
    "result = evaluate(model,train_loader) # Use the the evaluate function\n",
    "print(result)"
   ]
  },
  {
   "cell_type": "markdown",
   "metadata": {},
   "source": [
    "\n",
    "We are now ready to train the model. You may need to run the training loop many times, for different number of epochs and with different learning rates, to get a good result. Also, if your loss becomes too large (or `nan`), you may have to re-initialize the model by running the cell `model = InsuranceModel()`. Experiment with this for a while, and try to get to as low a loss as possible."
   ]
  },
  {
   "cell_type": "markdown",
   "metadata": {},
   "source": [
    "**Q11: Train the model 4-5 times with different learning rates & for different number of epochs.**\n",
    "\n",
    "Hint: Vary learning rates by orders of 10 (e.g. `1e-2`, `1e-3`, `1e-4`, `1e-5`, `1e-6`) to figure out what works."
   ]
  },
  {
   "cell_type": "code",
   "execution_count": 258,
   "metadata": {},
   "outputs": [
    {
     "name": "stdout",
     "output_type": "stream",
     "text": [
      "Epoch [20], val_loss: 53.3890\n",
      "Epoch [40], val_loss: 47.7791\n",
      "Epoch [60], val_loss: 51.2067\n",
      "Epoch [80], val_loss: 190.2493\n",
      "Epoch [100], val_loss: 170.4553\n"
     ]
    }
   ],
   "source": [
    "epochs = 100\n",
    "lr = 1e-6\n",
    "history1 = fit(epochs, lr, model, train_loader, val_loader)"
   ]
  },
  {
   "cell_type": "code",
   "execution_count": 259,
   "metadata": {},
   "outputs": [
    {
     "name": "stdout",
     "output_type": "stream",
     "text": [
      "Epoch [20], val_loss: 5.7702\n",
      "Epoch [40], val_loss: 4.3884\n",
      "Epoch [60], val_loss: 10.1374\n",
      "Epoch [80], val_loss: 16.9099\n",
      "Epoch [100], val_loss: 13.0762\n"
     ]
    }
   ],
   "source": [
    "epochs = 100\n",
    "lr = 1e-7\n",
    "history2 = fit(epochs, lr, model, train_loader, val_loader)"
   ]
  },
  {
   "cell_type": "code",
   "execution_count": 260,
   "metadata": {},
   "outputs": [
    {
     "name": "stdout",
     "output_type": "stream",
     "text": [
      "Epoch [20], val_loss: 34.7380\n",
      "Epoch [40], val_loss: 40.9281\n",
      "Epoch [60], val_loss: 18.7300\n",
      "Epoch [80], val_loss: 46.6073\n",
      "Epoch [100], val_loss: 36.0433\n",
      "Epoch [120], val_loss: 56.0709\n",
      "Epoch [140], val_loss: 22.5447\n",
      "Epoch [160], val_loss: 55.2362\n",
      "Epoch [180], val_loss: 47.8699\n",
      "Epoch [200], val_loss: 38.7018\n"
     ]
    }
   ],
   "source": [
    "epochs = 200\n",
    "lr = 3e-7\n",
    "history3 = fit(epochs, lr, model, train_loader, val_loader)"
   ]
  },
  {
   "cell_type": "code",
   "execution_count": 261,
   "metadata": {},
   "outputs": [
    {
     "name": "stdout",
     "output_type": "stream",
     "text": [
      "Epoch [20], val_loss: 3.7607\n",
      "Epoch [40], val_loss: 3.7592\n",
      "Epoch [60], val_loss: 3.8434\n",
      "Epoch [80], val_loss: 3.7638\n",
      "Epoch [100], val_loss: 3.8016\n",
      "Epoch [120], val_loss: 3.7558\n",
      "Epoch [140], val_loss: 3.7718\n",
      "Epoch [160], val_loss: 3.7786\n",
      "Epoch [180], val_loss: 3.7470\n",
      "Epoch [200], val_loss: 3.7478\n"
     ]
    }
   ],
   "source": [
    "epochs = 200\n",
    "lr = 1e-8\n",
    "history4 = fit(epochs, lr, model, train_loader, val_loader)"
   ]
  },
  {
   "cell_type": "code",
   "execution_count": 262,
   "metadata": {},
   "outputs": [
    {
     "name": "stdout",
     "output_type": "stream",
     "text": [
      "Epoch [5], val_loss: 3.7445\n"
     ]
    }
   ],
   "source": [
    "epochs = 5\n",
    "lr = 1e-8\n",
    "history5 = fit(epochs, lr, model, train_loader, val_loader)"
   ]
  },
  {
   "cell_type": "markdown",
   "metadata": {},
   "source": [
    "**Q12: What is the final validation loss of your model?**"
   ]
  },
  {
   "cell_type": "code",
   "execution_count": 264,
   "metadata": {},
   "outputs": [],
   "source": [
    "val_loss = 3.7445"
   ]
  },
  {
   "cell_type": "markdown",
   "metadata": {},
   "source": [
    "Let's log the final validation loss to Jovian and commit the notebook"
   ]
  },
  {
   "cell_type": "code",
   "execution_count": 274,
   "metadata": {},
   "outputs": [
    {
     "name": "stdout",
     "output_type": "stream",
     "text": [
      "[jovian] Metrics logged.\u001b[0m\n"
     ]
    }
   ],
   "source": [
    "jovian.log_metrics(val_loss=val_loss)"
   ]
  },
  {
   "cell_type": "code",
   "execution_count": 266,
   "metadata": {},
   "outputs": [
    {
     "data": {
      "application/javascript": [
       "window.require && require([\"base/js/namespace\"],function(Jupyter){Jupyter.notebook.save_checkpoint()})"
      ],
      "text/plain": [
       "<IPython.core.display.Javascript object>"
      ]
     },
     "metadata": {},
     "output_type": "display_data"
    },
    {
     "name": "stdout",
     "output_type": "stream",
     "text": [
      "[jovian] Updating notebook \"yassireljay/02-insurance-linear-regression\" on https://jovian.ai\u001b[0m\n",
      "[jovian] Attaching records (metrics, hyperparameters, dataset etc.)\u001b[0m\n",
      "[jovian] Committed successfully! https://jovian.ai/yassireljay/02-insurance-linear-regression\u001b[0m\n"
     ]
    },
    {
     "data": {
      "text/plain": [
       "'https://jovian.ai/yassireljay/02-insurance-linear-regression'"
      ]
     },
     "execution_count": 266,
     "metadata": {},
     "output_type": "execute_result"
    }
   ],
   "source": [
    "jovian.commit(project=project_name, environment=None)"
   ]
  },
  {
   "cell_type": "markdown",
   "metadata": {},
   "source": [
    "Now scroll back up, re-initialize the model, and try different set of values for batch size, number of epochs, learning rate etc. Commit each experiment and use the \"Compare\" and \"View Diff\" options on Jovian to compare the different results."
   ]
  },
  {
   "cell_type": "markdown",
   "metadata": {},
   "source": [
    "## Step 5: Make predictions using the trained model\n",
    "\n",
    "**Q13: Complete the following function definition to make predictions on a single input**"
   ]
  },
  {
   "cell_type": "code",
   "execution_count": 268,
   "metadata": {},
   "outputs": [],
   "source": [
    "def predict_single(input, target, model):\n",
    "    inputs = input.unsqueeze(0)\n",
    "    predictions = model(input)                # fill this\n",
    "    prediction = predictions[0].detach()\n",
    "    print(\"Input:\", input)\n",
    "    print(\"Target:\", target)\n",
    "    print(\"Prediction:\", prediction)"
   ]
  },
  {
   "cell_type": "code",
   "execution_count": 269,
   "metadata": {},
   "outputs": [
    {
     "name": "stdout",
     "output_type": "stream",
     "text": [
      "Input: tensor([  24.0000,    0.0000,   32.9703,    0.0000,    0.0000, 2844.3342])\n",
      "Target: tensor([2844.3342])\n",
      "Prediction: tensor(2851.2288)\n"
     ]
    }
   ],
   "source": [
    "input, target = val_ds[0]\n",
    "predict_single(input, target, model)"
   ]
  },
  {
   "cell_type": "code",
   "execution_count": 270,
   "metadata": {},
   "outputs": [
    {
     "name": "stdout",
     "output_type": "stream",
     "text": [
      "Input: tensor([5.1000e+01, 1.0000e+00, 2.9129e+01, 1.0000e+00, 0.0000e+00, 1.0785e+04])\n",
      "Target: tensor([10784.5908])\n",
      "Prediction: tensor(10787.6611)\n"
     ]
    }
   ],
   "source": [
    "input, target = val_ds[10]\n",
    "predict_single(input, target, model)"
   ]
  },
  {
   "cell_type": "code",
   "execution_count": 271,
   "metadata": {},
   "outputs": [
    {
     "name": "stdout",
     "output_type": "stream",
     "text": [
      "Input: tensor([4.1000e+01, 1.0000e+00, 2.1127e+01, 1.0000e+00, 0.0000e+00, 7.2133e+03])\n",
      "Target: tensor([7213.3486])\n",
      "Prediction: tensor(7215.4653)\n"
     ]
    }
   ],
   "source": [
    "input, target = val_ds[23]\n",
    "predict_single(input, target, model)"
   ]
  },
  {
   "cell_type": "markdown",
   "metadata": {},
   "source": [
    "Are you happy with your model's predictions? Try to improve them further."
   ]
  },
  {
   "cell_type": "markdown",
   "metadata": {},
   "source": [
    "## (Optional) Step 6: Try another dataset & blog about it\n",
    "\n",
    "While this last step is optional for the submission of your assignment, we highly recommend that you do it. Try to replicate this notebook for a different linear regression or logistic regression problem. This will help solidify your understanding, and give you a chance to differentiate the generic patterns in machine learning from problem-specific details.You can use one of these starer notebooks (just change the dataset):\n",
    "\n",
    "- Linear regression (minimal): https://jovian.ai/aakashns/housing-linear-minimal\n",
    "- Logistic regression (minimal): https://jovian.ai/aakashns/mnist-logistic-minimal\n",
    "\n",
    "Here are some sources to find good datasets:\n",
    "\n",
    "- https://lionbridge.ai/datasets/10-open-datasets-for-linear-regression/\n",
    "- https://www.kaggle.com/rtatman/datasets-for-regression-analysis\n",
    "- https://archive.ics.uci.edu/ml/datasets.php?format=&task=reg&att=&area=&numAtt=&numIns=&type=&sort=nameUp&view=table\n",
    "- https://people.sc.fsu.edu/~jburkardt/datasets/regression/regression.html\n",
    "- https://archive.ics.uci.edu/ml/datasets/wine+quality\n",
    "- https://pytorch.org/docs/stable/torchvision/datasets.html\n",
    "\n",
    "We also recommend that you write a blog about your approach to the problem. Here is a suggested structure for your post (feel free to experiment with it):\n",
    "\n",
    "- Interesting title & subtitle\n",
    "- Overview of what the blog covers (which dataset, linear regression or logistic regression, intro to PyTorch)\n",
    "- Downloading & exploring the data\n",
    "- Preparing the data for training\n",
    "- Creating a model using PyTorch\n",
    "- Training the model to fit the data\n",
    "- Your thoughts on how to experiment with different hyperparmeters to reduce loss\n",
    "- Making predictions using the model\n",
    "\n",
    "As with the previous assignment, you can [embed Juptyer notebook cells & outputs from Jovian](https://medium.com/jovianml/share-and-embed-jupyter-notebooks-online-with-jovian-ml-df709a03064e) into your blog. \n",
    "\n",
    "Don't forget to share your work on the forum: https://jovian.ai/forum/t/linear-regression-and-logistic-regression-notebooks-and-blog-posts/14039"
   ]
  },
  {
   "cell_type": "code",
   "execution_count": 275,
   "metadata": {},
   "outputs": [
    {
     "data": {
      "application/javascript": [
       "window.require && require([\"base/js/namespace\"],function(Jupyter){Jupyter.notebook.save_checkpoint()})"
      ],
      "text/plain": [
       "<IPython.core.display.Javascript object>"
      ]
     },
     "metadata": {},
     "output_type": "display_data"
    },
    {
     "name": "stdout",
     "output_type": "stream",
     "text": [
      "[jovian] Updating notebook \"yassireljay/02-insurance-linear-regression\" on https://jovian.ai\u001b[0m\n",
      "[jovian] Attaching records (metrics, hyperparameters, dataset etc.)\u001b[0m\n",
      "[jovian] Committed successfully! https://jovian.ai/yassireljay/02-insurance-linear-regression\u001b[0m\n"
     ]
    },
    {
     "data": {
      "application/javascript": [
       "window.require && require([\"base/js/namespace\"],function(Jupyter){Jupyter.notebook.save_checkpoint()})"
      ],
      "text/plain": [
       "<IPython.core.display.Javascript object>"
      ]
     },
     "metadata": {},
     "output_type": "display_data"
    },
    {
     "name": "stdout",
     "output_type": "stream",
     "text": [
      "[jovian] Updating notebook \"yassireljay/02-insurance-linear-regression\" on https://jovian.ai\u001b[0m\n",
      "[jovian] Attaching records (metrics, hyperparameters, dataset etc.)\u001b[0m\n",
      "[jovian] Committed successfully! https://jovian.ai/yassireljay/02-insurance-linear-regression\u001b[0m\n"
     ]
    },
    {
     "data": {
      "text/plain": [
       "'https://jovian.ai/yassireljay/02-insurance-linear-regression'"
      ]
     },
     "execution_count": 275,
     "metadata": {},
     "output_type": "execute_result"
    }
   ],
   "source": [
    "jovian.commit(project=project_name, environment=None)\n",
    "jovian.commit(project=project_name, environment=None) # try again, kaggle fails sometimes"
   ]
  },
  {
   "cell_type": "code",
   "execution_count": null,
   "metadata": {},
   "outputs": [],
   "source": []
  }
 ],
 "metadata": {
  "language_info": {
   "codemirror_mode": {
    "name": "ipython",
    "version": 3
   },
   "file_extension": ".py",
   "mimetype": "text/x-python",
   "name": "python",
   "nbconvert_exporter": "python",
   "pygments_lexer": "ipython3",
   "version": "3.9.6"
  }
 },
 "nbformat": 4,
 "nbformat_minor": 4
}